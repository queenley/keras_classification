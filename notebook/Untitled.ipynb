{
 "cells": [
  {
   "cell_type": "code",
   "execution_count": 13,
   "id": "130dcd72",
   "metadata": {},
   "outputs": [
    {
     "name": "stdout",
     "output_type": "stream",
     "text": [
      "/Volumes/Queen/KNG/keras_classifier/dataset/image\n"
     ]
    }
   ],
   "source": [
    "%cd /Volumes/Queen/KNG/keras_classifier/dataset/image"
   ]
  },
  {
   "cell_type": "code",
   "execution_count": 16,
   "id": "01df71de",
   "metadata": {
    "scrolled": true
   },
   "outputs": [
    {
     "name": "stdout",
     "output_type": "stream",
     "text": [
      "./001 751\n",
      "./003 715\n",
      "./004 786\n",
      "./005 684\n",
      "./006 722\n",
      "./007 697\n",
      "./008 755\n",
      "./009 689\n",
      "./010 779\n",
      "./011 731\n",
      "./012 709\n",
      "./013 951\n",
      "./014 818\n",
      "./015 825\n",
      "./016 844\n",
      "./017 768\n",
      "./018 872\n",
      "./019 744\n",
      "./020 730\n",
      "./021 794\n",
      "./022 783\n",
      "./023 743\n",
      "./024 745\n"
     ]
    }
   ],
   "source": [
    "from glob import glob \n",
    "\n",
    "for cls in glob(\"./*\"):\n",
    "    print(cls, len(glob(f\"{cls}/*\")))"
   ]
  },
  {
   "cell_type": "code",
   "execution_count": 9,
   "id": "1c2141c1",
   "metadata": {},
   "outputs": [],
   "source": [
    "import cv2\n",
    "\n",
    "predict_img_path = \"001.png\"\n",
    "a = cv2.imread(predict_img_path)[..., ::-1]\n",
    "b = cv2.imread(predict_img_path)"
   ]
  },
  {
   "cell_type": "code",
   "execution_count": 10,
   "id": "a88700b1",
   "metadata": {},
   "outputs": [
    {
     "data": {
      "text/plain": [
       "(520, 520, 3)"
      ]
     },
     "execution_count": 10,
     "metadata": {},
     "output_type": "execute_result"
    }
   ],
   "source": [
    "a.shape"
   ]
  },
  {
   "cell_type": "code",
   "execution_count": 11,
   "id": "1675d9c5",
   "metadata": {},
   "outputs": [
    {
     "data": {
      "text/plain": [
       "(520, 520, 3)"
      ]
     },
     "execution_count": 11,
     "metadata": {},
     "output_type": "execute_result"
    }
   ],
   "source": [
    "b.shape"
   ]
  },
  {
   "cell_type": "code",
   "execution_count": 33,
   "id": "ff69be8f",
   "metadata": {},
   "outputs": [
    {
     "data": {
      "text/plain": [
       "True"
      ]
     },
     "execution_count": 33,
     "metadata": {},
     "output_type": "execute_result"
    }
   ],
   "source": [
    "import numpy as np\n",
    "\n",
    "np.array_equal(a[0,300], b[0,300])"
   ]
  },
  {
   "cell_type": "code",
   "execution_count": 36,
   "id": "ae2bade9",
   "metadata": {},
   "outputs": [
    {
     "data": {
      "text/plain": [
       "array([[[0.919516  , 0.65718273, 0.7746118 ],\n",
       "        [0.38744165, 0.87271686, 0.01503307],\n",
       "        [0.16416361, 0.1098036 , 0.71336325],\n",
       "        [0.68670758, 0.14642549, 0.57748332],\n",
       "        [0.48950096, 0.24823648, 0.15402254]],\n",
       "\n",
       "       [[0.97161943, 0.94460342, 0.46003988],\n",
       "        [0.20015428, 0.54089566, 0.97795365],\n",
       "        [0.64032572, 0.73374074, 0.8806599 ],\n",
       "        [0.84797894, 0.99566548, 0.74297179],\n",
       "        [0.60136876, 0.04731858, 0.11658665]],\n",
       "\n",
       "       [[0.63165615, 0.35536404, 0.72480161],\n",
       "        [0.45107001, 0.25232677, 0.49042419],\n",
       "        [0.19186659, 0.07688546, 0.21627421],\n",
       "        [0.98399308, 0.36036091, 0.94996321],\n",
       "        [0.24171287, 0.45398818, 0.20299566]],\n",
       "\n",
       "       [[0.08092272, 0.10721698, 0.93285575],\n",
       "        [0.30374496, 0.19563132, 0.32186597],\n",
       "        [0.35319431, 0.1762719 , 0.16301913],\n",
       "        [0.45977708, 0.49671755, 0.73158904],\n",
       "        [0.09050883, 0.07079441, 0.1636123 ]],\n",
       "\n",
       "       [[0.41260902, 0.225356  , 0.06124382],\n",
       "        [0.65310564, 0.97878179, 0.53784287],\n",
       "        [0.40582913, 0.06941937, 0.02717994],\n",
       "        [0.71638968, 0.0240678 , 0.08914212],\n",
       "        [0.83461719, 0.8738159 , 0.91378459]]])"
      ]
     },
     "execution_count": 36,
     "metadata": {},
     "output_type": "execute_result"
    }
   ],
   "source": [
    "a = np.random.rand(5, 5, 3)\n",
    "a"
   ]
  },
  {
   "cell_type": "code",
   "execution_count": 37,
   "id": "620f9eab",
   "metadata": {},
   "outputs": [
    {
     "data": {
      "text/plain": [
       "array([[[0.7746118 , 0.65718273, 0.919516  ],\n",
       "        [0.01503307, 0.87271686, 0.38744165],\n",
       "        [0.71336325, 0.1098036 , 0.16416361],\n",
       "        [0.57748332, 0.14642549, 0.68670758],\n",
       "        [0.15402254, 0.24823648, 0.48950096]],\n",
       "\n",
       "       [[0.46003988, 0.94460342, 0.97161943],\n",
       "        [0.97795365, 0.54089566, 0.20015428],\n",
       "        [0.8806599 , 0.73374074, 0.64032572],\n",
       "        [0.74297179, 0.99566548, 0.84797894],\n",
       "        [0.11658665, 0.04731858, 0.60136876]],\n",
       "\n",
       "       [[0.72480161, 0.35536404, 0.63165615],\n",
       "        [0.49042419, 0.25232677, 0.45107001],\n",
       "        [0.21627421, 0.07688546, 0.19186659],\n",
       "        [0.94996321, 0.36036091, 0.98399308],\n",
       "        [0.20299566, 0.45398818, 0.24171287]],\n",
       "\n",
       "       [[0.93285575, 0.10721698, 0.08092272],\n",
       "        [0.32186597, 0.19563132, 0.30374496],\n",
       "        [0.16301913, 0.1762719 , 0.35319431],\n",
       "        [0.73158904, 0.49671755, 0.45977708],\n",
       "        [0.1636123 , 0.07079441, 0.09050883]],\n",
       "\n",
       "       [[0.06124382, 0.225356  , 0.41260902],\n",
       "        [0.53784287, 0.97878179, 0.65310564],\n",
       "        [0.02717994, 0.06941937, 0.40582913],\n",
       "        [0.08914212, 0.0240678 , 0.71638968],\n",
       "        [0.91378459, 0.8738159 , 0.83461719]]])"
      ]
     },
     "execution_count": 37,
     "metadata": {},
     "output_type": "execute_result"
    }
   ],
   "source": [
    "a[..., ::-1]"
   ]
  },
  {
   "cell_type": "code",
   "execution_count": null,
   "id": "46328e03",
   "metadata": {},
   "outputs": [],
   "source": []
  }
 ],
 "metadata": {
  "kernelspec": {
   "display_name": "Python 3 (ipykernel)",
   "language": "python",
   "name": "python3"
  },
  "language_info": {
   "codemirror_mode": {
    "name": "ipython",
    "version": 3
   },
   "file_extension": ".py",
   "mimetype": "text/x-python",
   "name": "python",
   "nbconvert_exporter": "python",
   "pygments_lexer": "ipython3",
   "version": "3.9.13"
  }
 },
 "nbformat": 4,
 "nbformat_minor": 5
}
