{
 "cells": [
  {
   "cell_type": "code",
   "execution_count": 1,
   "metadata": {},
   "outputs": [],
   "source": [
    "import cv2\n",
    "import os\n",
    "import argparse\n",
    "from tqdm import tqdm\n",
    "from glob import glob"
   ]
  },
  {
   "cell_type": "code",
   "execution_count": 2,
   "metadata": {},
   "outputs": [],
   "source": [
    "def get_frame(video_path, _image_folder):\n",
    "    cam = cv2.VideoCapture(video_path)\n",
    "    current_frame = 0\n",
    "    while True:\n",
    "        # reading from frame\n",
    "        ret, frame = cam.read()\n",
    "        if ret:\n",
    "            save_name = f\"{image_folder}/{str(current_frame).zfill(4)}.png\"\n",
    "            cv2.imwrite(save_name, frame)\n",
    "\n",
    "            current_frame += 1\n",
    "        else:\n",
    "            break\n",
    "    # Release all space and windows once done\n",
    "    cam.release()\n",
    "    cv2.destroyAllWindows()"
   ]
  },
  {
   "cell_type": "code",
   "execution_count": 7,
   "metadata": {},
   "outputs": [],
   "source": [
    "video_path = \"/Volumes/Queen/KNG/keras_classifier/dataset/video\"\n",
    "image_path = \"/Volumes/Queen/KNG/keras_classifier/dataset/imagev2\""
   ]
  },
  {
   "cell_type": "code",
   "execution_count": null,
   "metadata": {},
   "outputs": [
    {
     "name": "stderr",
     "output_type": "stream",
     "text": [
      "  6%|██▍                                        | 6/105 [02:42<39:20, 23.85s/it]"
     ]
    }
   ],
   "source": [
    "if __name__ == \"__main__\":\n",
    "    if not os.path.exists(image_path):\n",
    "        os.mkdir(image_path)\n",
    "\n",
    "    for video in tqdm(glob(f\"{video_path}/*/*\")):\n",
    "        if os.path.isdir(video):\n",
    "            continue\n",
    "        cls_name = video.split(\"/\")[-2]\n",
    "\n",
    "        image_folder = f\"{image_path}/{cls_name}\"\n",
    "        if not os.path.exists(image_folder):\n",
    "            os.mkdir(image_folder)\n",
    "\n",
    "        get_frame(video, image_folder)\n"
   ]
  },
  {
   "cell_type": "code",
   "execution_count": null,
   "metadata": {},
   "outputs": [],
   "source": [
    "for cls in glob(f\"{image_path}/*\"):\n",
    "    num_img = len(glob(f\"{image_path}/{cls}/*\"))\n",
    "    print(cls, \": \", num_img)"
   ]
  },
  {
   "cell_type": "code",
   "execution_count": null,
   "metadata": {},
   "outputs": [],
   "source": []
  }
 ],
 "metadata": {
  "colab": {
   "name": "window_generate_from_videos.ipynb",
   "provenance": []
  },
  "kernelspec": {
   "display_name": "Python 3 (ipykernel)",
   "language": "python",
   "name": "python3"
  },
  "language_info": {
   "codemirror_mode": {
    "name": "ipython",
    "version": 3
   },
   "file_extension": ".py",
   "mimetype": "text/x-python",
   "name": "python",
   "nbconvert_exporter": "python",
   "pygments_lexer": "ipython3",
   "version": "3.9.13"
  }
 },
 "nbformat": 4,
 "nbformat_minor": 1
}
