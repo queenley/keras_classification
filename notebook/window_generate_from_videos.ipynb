{
 "cells": [
  {
   "cell_type": "code",
   "execution_count": 1,
   "metadata": {},
   "outputs": [],
   "source": [
    "import cv2\n",
    "import os\n",
    "import argparse\n",
    "from tqdm import tqdm\n",
    "from glob import glob"
   ]
  },
  {
   "cell_type": "code",
   "execution_count": 2,
   "metadata": {},
   "outputs": [],
   "source": [
    "def get_frame(video_path, _image_folder):\n",
    "    cam = cv2.VideoCapture(video_path)\n",
    "    current_frame = 0\n",
    "    while True:\n",
    "        # reading from frame\n",
    "        ret, frame = cam.read()\n",
    "        if ret:\n",
    "            save_name = f\"{image_folder}/{str(current_frame).zfill(4)}.png\"\n",
    "            cv2.imwrite(save_name, frame)\n",
    "\n",
    "            current_frame += 1\n",
    "        else:\n",
    "            break\n",
    "    # Release all space and windows once done\n",
    "    cam.release()\n",
    "    cv2.destroyAllWindows()"
   ]
  },
  {
   "cell_type": "code",
   "execution_count": 7,
   "metadata": {},
   "outputs": [],
   "source": [
    "video_path = \"/Volumes/Queen/KNG/keras_classifier/dataset/video\"\n",
    "image_path = \"/Volumes/Queen/KNG/keras_classifier/dataset/imagev2\""
   ]
  },
  {
   "cell_type": "code",
   "execution_count": 8,
   "metadata": {},
   "outputs": [
    {
     "name": "stderr",
     "output_type": "stream",
     "text": [
      "100%|███████████████████████████████████████| 105/105 [1:16:13<00:00, 43.56s/it]\n"
     ]
    }
   ],
   "source": [
    "if __name__ == \"__main__\":\n",
    "    if not os.path.exists(image_path):\n",
    "        os.mkdir(image_path)\n",
    "\n",
    "    for video in tqdm(glob(f\"{video_path}/*/*\")):\n",
    "        if os.path.isdir(video):\n",
    "            continue\n",
    "        cls_name = video.split(\"/\")[-2]\n",
    "\n",
    "        image_folder = f\"{image_path}/{cls_name}\"\n",
    "        if not os.path.exists(image_folder):\n",
    "            os.mkdir(image_folder)\n",
    "\n",
    "        get_frame(video, image_folder)\n"
   ]
  },
  {
   "cell_type": "code",
   "execution_count": 11,
   "metadata": {},
   "outputs": [
    {
     "data": {
      "text/plain": [
       "['/Volumes/Queen/KNG/keras_classifier/dataset/imagev2/001',\n",
       " '/Volumes/Queen/KNG/keras_classifier/dataset/imagev2/002',\n",
       " '/Volumes/Queen/KNG/keras_classifier/dataset/imagev2/003',\n",
       " '/Volumes/Queen/KNG/keras_classifier/dataset/imagev2/004',\n",
       " '/Volumes/Queen/KNG/keras_classifier/dataset/imagev2/005',\n",
       " '/Volumes/Queen/KNG/keras_classifier/dataset/imagev2/006',\n",
       " '/Volumes/Queen/KNG/keras_classifier/dataset/imagev2/007',\n",
       " '/Volumes/Queen/KNG/keras_classifier/dataset/imagev2/008',\n",
       " '/Volumes/Queen/KNG/keras_classifier/dataset/imagev2/009',\n",
       " '/Volumes/Queen/KNG/keras_classifier/dataset/imagev2/010',\n",
       " '/Volumes/Queen/KNG/keras_classifier/dataset/imagev2/011',\n",
       " '/Volumes/Queen/KNG/keras_classifier/dataset/imagev2/012',\n",
       " '/Volumes/Queen/KNG/keras_classifier/dataset/imagev2/013',\n",
       " '/Volumes/Queen/KNG/keras_classifier/dataset/imagev2/014',\n",
       " '/Volumes/Queen/KNG/keras_classifier/dataset/imagev2/015',\n",
       " '/Volumes/Queen/KNG/keras_classifier/dataset/imagev2/016',\n",
       " '/Volumes/Queen/KNG/keras_classifier/dataset/imagev2/017',\n",
       " '/Volumes/Queen/KNG/keras_classifier/dataset/imagev2/018',\n",
       " '/Volumes/Queen/KNG/keras_classifier/dataset/imagev2/019',\n",
       " '/Volumes/Queen/KNG/keras_classifier/dataset/imagev2/020',\n",
       " '/Volumes/Queen/KNG/keras_classifier/dataset/imagev2/021',\n",
       " '/Volumes/Queen/KNG/keras_classifier/dataset/imagev2/022',\n",
       " '/Volumes/Queen/KNG/keras_classifier/dataset/imagev2/023',\n",
       " '/Volumes/Queen/KNG/keras_classifier/dataset/imagev2/024']"
      ]
     },
     "execution_count": 11,
     "metadata": {},
     "output_type": "execute_result"
    }
   ],
   "source": [
    "glob(f\"{image_path}/*\")"
   ]
  },
  {
   "cell_type": "code",
   "execution_count": 14,
   "metadata": {},
   "outputs": [],
   "source": [
    "import random\n",
    "import shutil"
   ]
  },
  {
   "cell_type": "code",
   "execution_count": 24,
   "metadata": {},
   "outputs": [],
   "source": [
    "dst = '/Volumes/Queen/KNG/keras_classifier/dataset/imagev2_final'"
   ]
  },
  {
   "cell_type": "code",
   "execution_count": 27,
   "metadata": {},
   "outputs": [
    {
     "name": "stderr",
     "output_type": "stream",
     "text": [
      "100%|█████████████████████████████████████████| 650/650 [01:07<00:00,  9.67it/s]\n",
      "100%|█████████████████████████████████████████| 650/650 [01:02<00:00, 10.34it/s]\n",
      "100%|█████████████████████████████████████████| 650/650 [01:05<00:00,  9.88it/s]\n",
      "100%|█████████████████████████████████████████| 650/650 [01:16<00:00,  8.47it/s]\n",
      "100%|█████████████████████████████████████████| 650/650 [01:02<00:00, 10.47it/s]\n",
      "100%|█████████████████████████████████████████| 650/650 [00:57<00:00, 11.22it/s]\n",
      "100%|█████████████████████████████████████████| 650/650 [01:09<00:00,  9.32it/s]\n",
      "100%|█████████████████████████████████████████| 650/650 [01:05<00:00,  9.89it/s]\n",
      "100%|█████████████████████████████████████████| 650/650 [01:07<00:00,  9.60it/s]\n",
      "100%|█████████████████████████████████████████| 650/650 [01:06<00:00,  9.72it/s]\n",
      "100%|█████████████████████████████████████████| 650/650 [01:02<00:00, 10.45it/s]\n",
      "100%|█████████████████████████████████████████| 650/650 [01:02<00:00, 10.39it/s]\n",
      "100%|█████████████████████████████████████████| 650/650 [00:57<00:00, 11.35it/s]\n",
      "100%|█████████████████████████████████████████| 650/650 [00:53<00:00, 12.23it/s]\n",
      "100%|█████████████████████████████████████████| 650/650 [00:55<00:00, 11.67it/s]\n",
      "100%|█████████████████████████████████████████| 650/650 [00:57<00:00, 11.30it/s]\n",
      "100%|█████████████████████████████████████████| 650/650 [00:58<00:00, 11.15it/s]\n",
      "100%|█████████████████████████████████████████| 650/650 [01:00<00:00, 10.68it/s]\n",
      "100%|█████████████████████████████████████████| 650/650 [00:47<00:00, 13.62it/s]\n",
      "100%|█████████████████████████████████████████| 650/650 [01:13<00:00,  8.79it/s]\n",
      "100%|█████████████████████████████████████████| 650/650 [00:54<00:00, 11.85it/s]\n",
      "100%|█████████████████████████████████████████| 650/650 [01:04<00:00, 10.02it/s]\n",
      "100%|█████████████████████████████████████████| 650/650 [01:07<00:00,  9.56it/s]\n",
      "100%|█████████████████████████████████████████| 650/650 [00:51<00:00, 12.63it/s]\n"
     ]
    }
   ],
   "source": [
    "for cls in glob(f\"{image_path}/*\"):\n",
    "    cls_name = cls.split(\"/\")[-1]\n",
    "#     num_img = len(glob(f\"{image_path}/{cls_name}/*\"))\n",
    "    if not os.path.exists(f\"{dst}/{cls_name}\"):\n",
    "        os.mkdir(f\"{dst}/{cls_name}\")\n",
    "    for data in tqdm(random.sample(glob(f'{image_path}/{cls_name}/*.png'), 650)):\n",
    "        shutil.copy(data, f\"{dst}/{cls_name}/{os.path.basename(data)}\")\n",
    "#     print(cls_name, \": \", num_img)"
   ]
  },
  {
   "cell_type": "code",
   "execution_count": 18,
   "metadata": {},
   "outputs": [
    {
     "data": {
      "text/plain": [
       "12000"
      ]
     },
     "execution_count": 18,
     "metadata": {},
     "output_type": "execute_result"
    }
   ],
   "source": [
    "len(list_data)"
   ]
  },
  {
   "cell_type": "code",
   "execution_count": 22,
   "metadata": {},
   "outputs": [
    {
     "data": {
      "text/plain": [
       "'/Volumes/Queen/KNG/keras_classifier/dataset/imagev2_final/0580.png'"
      ]
     },
     "execution_count": 22,
     "metadata": {},
     "output_type": "execute_result"
    }
   ],
   "source": [
    "\n",
    "\n"
   ]
  },
  {
   "cell_type": "code",
   "execution_count": null,
   "metadata": {},
   "outputs": [],
   "source": []
  }
 ],
 "metadata": {
  "colab": {
   "name": "window_generate_from_videos.ipynb",
   "provenance": []
  },
  "kernelspec": {
   "display_name": "Python 3 (ipykernel)",
   "language": "python",
   "name": "python3"
  },
  "language_info": {
   "codemirror_mode": {
    "name": "ipython",
    "version": 3
   },
   "file_extension": ".py",
   "mimetype": "text/x-python",
   "name": "python",
   "nbconvert_exporter": "python",
   "pygments_lexer": "ipython3",
   "version": "3.9.13"
  }
 },
 "nbformat": 4,
 "nbformat_minor": 1
}
